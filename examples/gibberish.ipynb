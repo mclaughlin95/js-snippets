{
 "cells": [
  {
   "cell_type": "code",
   "execution_count": 1,
   "id": "8aab2be1-0134-4d6c-87dc-24cca91e2a67",
   "metadata": {},
   "outputs": [],
   "source": [
    "const gibberish = require('../src/gibberish.js');"
   ]
  },
  {
   "cell_type": "code",
   "execution_count": 2,
   "id": "e9c8ec24-dc56-4b62-9735-2ccc7cb6c56f",
   "metadata": {},
   "outputs": [],
   "source": [
    "let text = 'Text to turn into gibberish';"
   ]
  },
  {
   "cell_type": "code",
   "execution_count": 3,
   "id": "82feada5-e888-4d30-b8f9-edc01f224bfe",
   "metadata": {},
   "outputs": [
    {
     "data": {
      "text/plain": [
       "'TLuS qk 64pi FUlK C2tzw3PrP'"
      ]
     },
     "execution_count": 3,
     "metadata": {},
     "output_type": "execute_result"
    }
   ],
   "source": [
    "gibberish.translate(text);"
   ]
  }
 ],
 "metadata": {
  "kernelspec": {
   "display_name": "JavaScript (Node.js)",
   "language": "javascript",
   "name": "javascript"
  },
  "language_info": {
   "file_extension": ".js",
   "mimetype": "application/javascript",
   "name": "javascript",
   "version": "16.14.0"
  }
 },
 "nbformat": 4,
 "nbformat_minor": 5
}
