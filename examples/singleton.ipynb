{
 "cells": [
  {
   "cell_type": "code",
   "execution_count": 1,
   "id": "beb41a57-de82-404a-8ce3-b5132039ce40",
   "metadata": {},
   "outputs": [],
   "source": [
    "const singleton = require('../src/singleton.js');"
   ]
  },
  {
   "cell_type": "code",
   "execution_count": 2,
   "id": "6b8f44e0-c97c-4bf8-a15e-3d3bbdbacf78",
   "metadata": {},
   "outputs": [],
   "source": [
    "let a = singleton.getInstance();"
   ]
  },
  {
   "cell_type": "code",
   "execution_count": 3,
   "id": "9fccc106-0f2d-4b2c-af1b-586aa3620882",
   "metadata": {},
   "outputs": [],
   "source": [
    "let b = singleton.getInstance();"
   ]
  },
  {
   "cell_type": "code",
   "execution_count": 4,
   "id": "4b2248e1-8494-4983-86b1-0faeade2ed1d",
   "metadata": {},
   "outputs": [
    {
     "data": {
      "text/plain": [
       "true"
      ]
     },
     "execution_count": 4,
     "metadata": {},
     "output_type": "execute_result"
    }
   ],
   "source": [
    "a.id == b.id"
   ]
  }
 ],
 "metadata": {
  "kernelspec": {
   "display_name": "JavaScript (Node.js)",
   "language": "javascript",
   "name": "javascript"
  },
  "language_info": {
   "file_extension": ".js",
   "mimetype": "application/javascript",
   "name": "javascript",
   "version": "16.14.0"
  }
 },
 "nbformat": 4,
 "nbformat_minor": 5
}
