{
 "cells": [
  {
   "cell_type": "code",
   "execution_count": 1,
   "id": "30242466-d899-4dc5-b4fc-edb2a8d4f387",
   "metadata": {},
   "outputs": [],
   "source": [
    "const sun = require('../src/sun.js');"
   ]
  },
  {
   "cell_type": "code",
   "execution_count": null,
   "id": "84a21f81-d1ef-4730-951f-b72652e1ded6",
   "metadata": {},
   "outputs": [],
   "source": [
    "// An example has yet to be created"
   ]
  }
 ],
 "metadata": {
  "kernelspec": {
   "display_name": "JavaScript (Node.js)",
   "language": "javascript",
   "name": "javascript"
  },
  "language_info": {
   "file_extension": ".js",
   "mimetype": "application/javascript",
   "name": "javascript",
   "version": "16.14.0"
  }
 },
 "nbformat": 4,
 "nbformat_minor": 5
}
