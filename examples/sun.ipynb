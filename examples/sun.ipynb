{
 "cells": [
  {
   "cell_type": "code",
   "execution_count": 1,
   "id": "30242466-d899-4dc5-b4fc-edb2a8d4f387",
   "metadata": {},
   "outputs": [],
   "source": [
    "const sun = require('../src/sun.js');\n",
    "const moment = require(\"moment-timezone\");"
   ]
  },
  {
   "cell_type": "code",
   "execution_count": 2,
   "id": "688f97b1-f278-4d66-adc8-8a9a8ce35b12",
   "metadata": {},
   "outputs": [],
   "source": [
    "let year = 2022;\n",
    "let month = 10; // October\n",
    "let day = 8;\n",
    "let lat = 41.0440059;\n",
    "let lon = -78.008111;"
   ]
  },
  {
   "cell_type": "markdown",
   "id": "cde8ef03-4b85-4976-92b4-037874fdd72f",
   "metadata": {},
   "source": [
    "## Sunrise"
   ]
  },
  {
   "cell_type": "code",
   "execution_count": 3,
   "id": "9bdfde23-8d1c-41bb-9f10-e69dced11c27",
   "metadata": {},
   "outputs": [
    {
     "data": {
      "text/plain": [
       "11.257426921902663"
      ]
     },
     "execution_count": 3,
     "metadata": {},
     "output_type": "execute_result"
    }
   ],
   "source": [
    "sunrise = sun.sunrise(year, month, day, lat, lon);\n",
    "sunrise"
   ]
  },
  {
   "cell_type": "code",
   "execution_count": 4,
   "id": "58466764-5e62-440d-9b68-fc046a2b8e2f",
   "metadata": {},
   "outputs": [],
   "source": [
    "var sunriseDuration =  moment.duration(sunrise, 'hours');"
   ]
  },
  {
   "cell_type": "code",
   "execution_count": 5,
   "id": "3885167f-e63f-4912-9694-90bb475d4c45",
   "metadata": {},
   "outputs": [],
   "source": [
    "var sunrise = moment('20221008', 'YYYYMMDD').add(sunriseDuration).add(1, 'hours').subtract(5, 'hours'); // 5 hour offset"
   ]
  },
  {
   "cell_type": "code",
   "execution_count": 6,
   "id": "be7ea159-5347-4220-a261-30b0e78181c4",
   "metadata": {},
   "outputs": [
    {
     "data": {
      "text/plain": [
       "'10/08/2022 07:15am'"
      ]
     },
     "execution_count": 6,
     "metadata": {},
     "output_type": "execute_result"
    }
   ],
   "source": [
    "sunrise.format('MM/DD/YYYY hh:mma');"
   ]
  },
  {
   "cell_type": "markdown",
   "id": "0d90cd8c-3481-4d7c-873f-3e3e012924da",
   "metadata": {},
   "source": [
    "## Sunset"
   ]
  },
  {
   "cell_type": "code",
   "execution_count": 7,
   "id": "e0bafec2-7578-4167-8002-b435dbbfa822",
   "metadata": {},
   "outputs": [
    {
     "data": {
      "text/plain": [
       "22.718437610200493"
      ]
     },
     "execution_count": 7,
     "metadata": {},
     "output_type": "execute_result"
    }
   ],
   "source": [
    "sunset = sun.sunset(year, month, day, lat, lon);\n",
    "sunset"
   ]
  },
  {
   "cell_type": "code",
   "execution_count": 8,
   "id": "2a40bae6-7bd6-4732-9beb-934be4093d41",
   "metadata": {},
   "outputs": [],
   "source": [
    "var sunsetDuration = moment.duration(sunset, 'hours');"
   ]
  },
  {
   "cell_type": "code",
   "execution_count": 9,
   "id": "ab8661a9-0ab5-4f3b-8d33-1ea02d3a7e30",
   "metadata": {},
   "outputs": [],
   "source": [
    "var sunset = moment('20221008', 'YYYYMMDD').add(sunsetDuration).add(1, 'hours').subtract(5, 'hours'); // 5 hour offset"
   ]
  },
  {
   "cell_type": "code",
   "execution_count": 10,
   "id": "c059be3a-16c3-4be3-bd41-966ef494e41f",
   "metadata": {},
   "outputs": [
    {
     "data": {
      "text/plain": [
       "'10/08/2022 06:43pm'"
      ]
     },
     "execution_count": 10,
     "metadata": {},
     "output_type": "execute_result"
    }
   ],
   "source": [
    "sunset.format('MM/DD/YYYY hh:mma');"
   ]
  }
 ],
 "metadata": {
  "kernelspec": {
   "display_name": "JavaScript (Node.js)",
   "language": "javascript",
   "name": "javascript"
  },
  "language_info": {
   "file_extension": ".js",
   "mimetype": "application/javascript",
   "name": "javascript",
   "version": "16.14.0"
  }
 },
 "nbformat": 4,
 "nbformat_minor": 5
}
